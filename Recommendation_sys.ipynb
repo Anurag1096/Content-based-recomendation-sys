{
 "cells": [
  {
   "cell_type": "code",
   "execution_count": 22,
   "metadata": {},
   "outputs": [],
   "source": [
    "import pandas as pd\n",
    "import numpy as np\n",
    "import matplotlib as plt\n",
    "import re"
   ]
  },
  {
   "cell_type": "code",
   "execution_count": 6,
   "metadata": {},
   "outputs": [],
   "source": [
    "data = pd.read_csv('tmdb_5000_movies.csv')\n",
    "data2 = pd.read_csv('tmdb_5000_credits.csv')"
   ]
  },
  {
   "cell_type": "code",
   "execution_count": 14,
   "metadata": {},
   "outputs": [],
   "source": [
    "#Droping the unusefull columns\n",
    "data1 = pd.DataFrame(data, columns = ['id', 'original_title', 'overview']) "
   ]
  },
  {
   "cell_type": "markdown",
   "metadata": {},
   "source": [
    "###Converting overview "
   ]
  },
  {
   "cell_type": "code",
   "execution_count": 39,
   "metadata": {},
   "outputs": [],
   "source": [
    "\n",
    "from sklearn.feature_extraction.text import TfidfVectorizer\n",
    "\n",
    "tfid= TfidfVectorizer(min_df=3,strip_accents='unicode', \n",
    "                      analyzer='word',token_pattern=r'\\w{1,}',\n",
    "                      ngram_range=(1, 3),stop_words='english'\n",
    "                                         )\n",
    "data1['overview'] = data1['overview'].fillna('')\n"
   ]
  },
  {
   "cell_type": "code",
   "execution_count": 40,
   "metadata": {},
   "outputs": [],
   "source": [
    "tfid_matrix = tfid.fit_transform(data1['overview'])"
   ]
  },
  {
   "cell_type": "code",
   "execution_count": 32,
   "metadata": {},
   "outputs": [
    {
     "data": {
      "text/plain": [
       "count                                                  4800\n",
       "unique                                                 4800\n",
       "top       A housemaid falls in love with Dr. Jekyll and ...\n",
       "freq                                                      1\n",
       "Name: overview, dtype: object"
      ]
     },
     "execution_count": 32,
     "metadata": {},
     "output_type": "execute_result"
    }
   ],
   "source": [
    "data1['overview'].describe()"
   ]
  },
  {
   "cell_type": "code",
   "execution_count": 41,
   "metadata": {},
   "outputs": [
    {
     "data": {
      "text/plain": [
       "(4803, 10417)"
      ]
     },
     "execution_count": 41,
     "metadata": {},
     "output_type": "execute_result"
    }
   ],
   "source": [
    "tfid_matrix.shape\n"
   ]
  },
  {
   "cell_type": "code",
   "execution_count": 42,
   "metadata": {},
   "outputs": [],
   "source": [
    "from sklearn.metrics.pairwise import sigmoid_kernel\n",
    "\n",
    "si = sigmoid_kernel(tfid_matrix,tfid_matrix)"
   ]
  },
  {
   "cell_type": "code",
   "execution_count": 46,
   "metadata": {},
   "outputs": [
    {
     "data": {
      "text/plain": [
       "array([[0.76163447, 0.76159416, 0.76159416, ..., 0.76159416, 0.76159416,\n",
       "        0.76159416],\n",
       "       [0.76159416, 0.76163447, 0.76159416, ..., 0.76159513, 0.76159416,\n",
       "        0.76159416],\n",
       "       [0.76159416, 0.76159416, 0.76163447, ..., 0.76159486, 0.76159416,\n",
       "        0.76159455],\n",
       "       ...,\n",
       "       [0.76159416, 0.76159513, 0.76159486, ..., 0.76163447, 0.76159483,\n",
       "        0.76159473],\n",
       "       [0.76159416, 0.76159416, 0.76159416, ..., 0.76159483, 0.76163447,\n",
       "        0.76159461],\n",
       "       [0.76159416, 0.76159416, 0.76159455, ..., 0.76159473, 0.76159461,\n",
       "        0.76163447]])"
      ]
     },
     "execution_count": 46,
     "metadata": {},
     "output_type": "execute_result"
    }
   ],
   "source": [
    "si"
   ]
  },
  {
   "cell_type": "code",
   "execution_count": 50,
   "metadata": {},
   "outputs": [],
   "source": [
    "indices = pd.Series(data1.index, index= data1['original_title']).drop_duplicates()"
   ]
  },
  {
   "cell_type": "code",
   "execution_count": 77,
   "metadata": {},
   "outputs": [],
   "source": [
    "\n",
    "def recom(title,si=si):\n",
    "    #Taking the index which belongs to the title\n",
    "    inx=indices[title]    \n",
    "    #get pairwise simalarity score\n",
    "    si_score= list(enumerate(si[inx]))\n",
    "    #sorting the movies in assending order\n",
    "    si_score= sorted(si_score, key= lambda x: x[1], reverse=True)\n",
    "    #Taking the top 10 values\n",
    "    si_score = si_score[1:11]\n",
    "    #movie indices\n",
    "    movie_indi = [i[0] for i in si_score]\n",
    "    #returning the top 10 similar movies\n",
    "    return data1['original_title'].iloc[movie_indi]\n",
    "    \n",
    "\n",
    "\n",
    "\n",
    "\n"
   ]
  },
  {
   "cell_type": "code",
   "execution_count": 78,
   "metadata": {},
   "outputs": [
    {
     "data": {
      "text/plain": [
       "1341                Obitaemyy Ostrov\n",
       "634                       The Matrix\n",
       "3604                       Apollo 18\n",
       "2130                    The American\n",
       "775                        Supernova\n",
       "529                 Tears of the Sun\n",
       "151                          Beowulf\n",
       "311     The Adventures of Pluto Nash\n",
       "847                         Semi-Pro\n",
       "942                 The Book of Life\n",
       "Name: original_title, dtype: object"
      ]
     },
     "execution_count": 78,
     "metadata": {},
     "output_type": "execute_result"
    }
   ],
   "source": [
    "recom('Avatar')"
   ]
  },
  {
   "cell_type": "code",
   "execution_count": null,
   "metadata": {},
   "outputs": [],
   "source": []
  },
  {
   "cell_type": "code",
   "execution_count": null,
   "metadata": {},
   "outputs": [],
   "source": []
  }
 ],
 "metadata": {
  "kernelspec": {
   "display_name": "Python 3",
   "language": "python",
   "name": "python3"
  },
  "language_info": {
   "codemirror_mode": {
    "name": "ipython",
    "version": 3
   },
   "file_extension": ".py",
   "mimetype": "text/x-python",
   "name": "python",
   "nbconvert_exporter": "python",
   "pygments_lexer": "ipython3",
   "version": "3.7.3"
  }
 },
 "nbformat": 4,
 "nbformat_minor": 4
}
